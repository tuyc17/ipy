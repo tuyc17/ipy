{
 "cells": [
  {
   "cell_type": "markdown",
   "metadata": {
    "toc-hr-collapsed": false
   },
   "source": [
    "# 作业一 图像处理基础\n",
    "\n",
    "* 作业分为三个部分,主要内容分别为**卷积, 滤波器和单应性**\n",
    "* 题型分为两种, 分别是**文字证明题**和需补充代码的**编程题**\n",
    "\n",
    "> 请在题目指定的位置上写文字或者代码, **不允许在规定范围之外**对笔记本进行改动\n",
    "“\n",
    "> 提交缓存好**结果**的ipynb文件(提交之前`restart kernel and run all cells`)\n",
    "\n",
    "> 有问题请联系助教王怡力, 微信号Amberyili, 邮箱amberwangyili@gmail.com"
   ]
  },
  {
   "cell_type": "code",
   "execution_count": 1,
   "metadata": {},
   "outputs": [],
   "source": [
    "# 需要导入的module\n",
    "from __future__ import print_function\n",
    "import numpy as np\n",
    "import matplotlib.pyplot as plt\n",
    "from time import time\n",
    "from skimage import io\n",
    "from scipy import ndimage\n",
    "\n",
    "%load_ext autoreload\n",
    "%autoreload 2\n",
    "%reload_ext autoreload"
   ]
  },
  {
   "cell_type": "code",
   "execution_count": 2,
   "metadata": {},
   "outputs": [],
   "source": [
    "# some helper functions\n",
    "def show_image(img, zoom=1.5):\n",
    "    dpi = 77\n",
    "    plt.figure(figsize=(img.shape[0]*zoom/dpi,img.shape[0]*zoom/dpi))\n",
    "    if len(img.shape) == 2:\n",
    "        img = np.repeat(img[:,:,np.newaxis],3,2)        \n",
    "    plt.imshow(img, interpolation='nearest')\n",
    "    \n",
    "def show_images(imglist, zoom=1, needs_encoding=False):\n",
    "    if type(imglist) is not list:\n",
    "        imglist = [imglist]\n",
    "    n = len(imglist)\n",
    "    first_img = imglist[0]\n",
    "    dpi = 77\n",
    "    plt.figure(figsize=(first_img.shape[0]*zoom*n/dpi,first_img.shape[0]*zoom*n/dpi))\n",
    "    for i in range(0,n):\n",
    "        img = imglist[i]\n",
    "        plt.subplot(1,n,i + 1)\n",
    "        plt.tight_layout()    \n",
    "        plt.axis('off')\n",
    "        if len(img.shape) == 2:\n",
    "            img = np.repeat(img[:,:,np.newaxis],3,2)\n",
    "        plt.imshow(img, interpolation='nearest')    "
   ]
  },
  {
   "cell_type": "markdown",
   "metadata": {
    "toc-hr-collapsed": false
   },
   "source": [
    "## 第一部分 卷积 (20分)"
   ]
  },
  {
   "cell_type": "code",
   "execution_count": 3,
   "metadata": {},
   "outputs": [],
   "source": [
    "%matplotlib inline\n",
    "plt.rcParams['figure.figsize'] = (10.0, 8.0)\n",
    "plt.rcParams['image.interpolation'] = 'nearest'\n",
    "plt.rcParams['image.cmap'] = 'gray'"
   ]
  },
  {
   "cell_type": "markdown",
   "metadata": {},
   "source": [
    "### 1.1 交换律 (5 分)\n",
    "\n",
    " 给出图像的表示 $f:\\mathbb{R}^2\\rightarrow \\mathbb{R}$和卷积核的表示 $h:\\mathbb{R}^2\\rightarrow\\mathbb{R}$后, 我们可以定义卷积操作为:\n",
    " \n",
    "$$(f*h)[m,n]=\\sum_{i=-\\infty}^\\infty\\sum_{j=-\\infty}^\\infty f[i,j]\\cdot h[m-i,n-j]$$\n",
    "\n",
    "或等价的,\n",
    "\\begin{align}\n",
    "(f*h)[m,n] &= \\sum_{i=-\\infty}^\\infty\\sum_{j=-\\infty}^\\infty h[i,j]\\cdot f[m-i,n-j]\\\\\n",
    "&= (h*f)[m,n]\n",
    "\\end{align}\n",
    "\n",
    "\n",
    "证明此结论,即$f*h = h*f$."
   ]
  },
  {
   "cell_type": "markdown",
   "metadata": {},
   "source": [
    "**Answer: 在此区域内提供`Markdown`格式的证明 公式格式参见[LaTex equations](http://jupyter-notebook.readthedocs.io/en/latest/examples/Notebook/Typesetting%20Equations.html).**\n",
    "$(f*h)[m,n]=\\sum_{i=-\\infty }^{\\infty}\\sum_{j=-\\infty }^{\\infty}f[i,j]\\cdot h[m-i,n-i]=-\\sum_{p=\\infty }^{-\\infty}\\sum_{q=\\infty }^{-\\infty}h[p,q]\\cdot f[m-p,n-q]=\\sum_{p=-\\infty }^{\\infty}\\sum_{q=-\\infty }^{\\infty}h[p,q]\\cdot f[m-p,n-q]=(h*f)[m,n]$"
   ]
  },
  {
   "cell_type": "markdown",
   "metadata": {},
   "source": [
    "### 1.2 平移不变性 (5 分)\n",
    "证明卷积操作和平移操作是[可交换的](https://en.wikipedia.org/wiki/Convolution#Translation_invariance) (定义描述参考此链接)"
   ]
  },
  {
   "cell_type": "markdown",
   "metadata": {},
   "source": [
    "**Answer: 在此区域内提供`Markdown`格式的证明 公式格式参见[LaTex equations](http://jupyter-notebook.readthedocs.io/en/latest/examples/Notebook/Typesetting%20Equations.html).**\n",
    "$$Conv_{i,j}=\\sum_{p,q}I_{i-p,j-1}K_{p,q}$$\n",
    "$$Tr(i,j)\\rightarrow (i+k,j+l)$$\n",
    "$$Conv_{Tr(i,j)}=Conv_{i+k,j+l}=\\sum_{p,q}I_{i+k-p,j+l-q}K_{p,q}=Tr(\\sum_{p,q}I_{i-p,j-q}K_{p,q})=Tr(Conv_{i,j})$$"
   ]
  },
  {
   "cell_type": "markdown",
   "metadata": {},
   "source": [
    "### 1.3 可分离滤波器 (10分)\n",
    "1.  对于一个2D的卷积核, 如果它能被表示为两个向量的外积操作, 即$F=F_1F_2$, 我们称该滤波器为可分离的滤波器,请证明性质$I*F=(I*F_1)*F_2$ (5分)"
   ]
  },
  {
   "cell_type": "markdown",
   "metadata": {},
   "source": [
    "**Answer: 在此区域内提供`Markdown`格式的证明 公式格式参见[LaTex equations](http://jupyter-notebook.readthedocs.io/en/latest/examples/Notebook/Typesetting%20Equations.html).**"
   ]
  },
  {
   "cell_type": "markdown",
   "metadata": {},
   "source": [
    "2. **复杂性比较**:  对一个维度为 $N\\times M$的图像, 和 $L \\times L $ 的可分离卷积核 $F=F_1F_2$ , 分别用大$O$符号表示2D卷积操作$I*F$和两个连续的1D卷积操作$(I*F_1)*F_2$的时间复杂度(5分)"
   ]
  },
  {
   "cell_type": "markdown",
   "metadata": {},
   "source": [
    "**Answer: 在此区域内提供`Markdown`格式的证明 公式格式参见[LaTex equations](http://jupyter-notebook.readthedocs.io/en/latest/examples/Notebook/Typesetting%20Equations.html).**\n",
    "$$O(M*N*L*L)$$\n",
    "$$O(2*M*N*L)$$"
   ]
  },
  {
   "cell_type": "markdown",
   "metadata": {
    "toc-hr-collapsed": false
   },
   "source": [
    "## 第二部分 滤波器 (20分)"
   ]
  },
  {
   "cell_type": "markdown",
   "metadata": {},
   "source": [
    "### 2.1 高斯滤波 (5分)"
   ]
  },
  {
   "cell_type": "markdown",
   "metadata": {},
   "source": [
    "首先, 我们知道, 给定某个二维点坐标$\\mathbf p = (p_x, p_y)$, 一个center在点$\\mathbf p$, 方差为$\\sigma^{2}$的高斯分布, 离该点距离为$d$的任意一点$\\mathbf q$的概率分布为\n",
    "\n",
    "$$\\mathcal{N}(\\mathbf q) =\\exp({- \\frac{d^{2}}{2\\sigma^{2}} })$$"
   ]
  },
  {
   "cell_type": "markdown",
   "metadata": {},
   "source": [
    "对于一个图像$I$, 我们可以定义高斯滤波操作为\n",
    "$$G(\\mathbf p) = \\frac{1}{\\sum\\limits_{q\\in S}\\mathcal{N}(\\mathbf q)} \\sum\\limits_{q\\in S} \\mathcal{N} (\\mathbf q)I_q$$\n",
    "\n",
    "我们定义像素周围的像素集合$S$为以像素点$\\mathbf p$为中心,边长为$2n+1$的正方形区域, 其中$n = \\lfloor{3\\sigma}\\rfloor$"
   ]
  },
  {
   "cell_type": "markdown",
   "metadata": {},
   "source": [
    "**请根据上述公式描述,在提示区域将代码补充完整，实现一个简单的高斯滤波**\n",
    "\n",
    "> 提示区域\n",
    "```python\n",
    "> ### YOUR CODE HERE\n",
    ">\n",
    "> ### END YOUR CODE\n",
    "```\n"
   ]
  },
  {
   "cell_type": "code",
   "execution_count": 4,
   "metadata": {},
   "outputs": [],
   "source": [
    "# Parameters:\n",
    "#   im: rgb三通道图像\n",
    "#   sigma:  高斯分布的方差 (sigma^2)\n",
    "def gaussian(im, sigma):\n",
    "    height, width,_ = im.shape\n",
    "    img_filtered = np.zeros([height, width, 3 ])\n",
    "    ### YOUR CODE HERE\n",
    "    n = int(3 * (sigma ** 0.5))\n",
    "    \n",
    "    img_pad = np.zeros([height+2*n, width+2*n, 3])\n",
    "    img_pad[n:height+n, n:width+n] = im.copy()\n",
    "\n",
    "    for i in range(n, height + n):\n",
    "        for j in range(n, width + n):\n",
    "            for k in range(3):\n",
    "                weight = 0\n",
    "                value = 0\n",
    "                for x in range(-n, n+1):\n",
    "                    for y in range(-n, n+1):\n",
    "                        if i+x >= n and i+x <= height+n-1 and j+y >= n and j+y <= width+n:\n",
    "                            space = np.exp(-(x**2+y**2)/(2*sigma))\n",
    "                            value = value + space * img_pad[i+x, j+y, k]\n",
    "                            weight = weight + space\n",
    "                img_filtered[i-n, j-n, k] = value/weight\n",
    "\n",
    "    img_filtered = np.clip(img_filtered, 0, 255)\n",
    "    ### END YOUR CODE\n",
    "    return img_filtered"
   ]
  },
  {
   "cell_type": "code",
   "execution_count": 5,
   "metadata": {},
   "outputs": [
    {
     "data": {
      "image/png": "[encoded data removed]",
      "text/plain": [
       "<Figure size 252.468x252.468 with 1 Axes>"
      ]
     },
     "metadata": {
      "needs_background": "light"
     },
     "output_type": "display_data"
    }
   ],
   "source": [
    "import numpy as np\n",
    "from PIL import Image\n",
    "\n",
    "img = np.array(Image.open('data/poster.jpg'), dtype=np.float32)\n",
    "img_filtered = np.asarray(gaussian(img, 3))\n",
    "show_image(img_filtered.astype(np.uint8))"
   ]
  },
  {
   "cell_type": "markdown",
   "metadata": {},
   "source": [
    "### 2.1 双边滤波 (15分)"
   ]
  },
  {
   "cell_type": "markdown",
   "metadata": {},
   "source": [
    "Image from Fast Bilateral Filtering for the Display of High-Dynamic-Range Images, Durand and Dorsey.\n",
    "<img src=\"./data/bilateral_filtering.png\"  style=\"width: 700px;display: inline-block;\"/>"
   ]
  },
  {
   "cell_type": "markdown",
   "metadata": {},
   "source": [
    "双边滤波在高斯滤波的基础上引入了一个和颜色强度相关的权重系数:\n",
    "\n",
    "$$G(\\mathbf p) = \\frac{1}{w} \\sum\\limits_{q\\in S} \\mathcal{N}(|p-q|)\\mathcal{N}(|I_p-I_q|)I_q$$\n",
    "$$w = \\sum\\limits_{q\\in S} \\mathcal{N}(|p-q|)\\mathcal{N}(|I_p-I_q|)$$"
   ]
  },
  {
   "cell_type": "markdown",
   "metadata": {},
   "source": [
    "1. 编程实现 (10分)"
   ]
  },
  {
   "cell_type": "code",
   "execution_count": 6,
   "metadata": {},
   "outputs": [],
   "source": [
    "def bilateral(im,sig_s, sig_c):\n",
    "    ### sig_c is the variance of Color Gaussian\n",
    "    ### sig_s is the variance of Spatial Gaussian\n",
    "    height, width, _= im.shape\n",
    "    img_filtered = np.zeros([height,width,3])\n",
    "    ### YOUR CODE HERE\n",
    "    # n = int(3 * ((sig_c ** 0.5) + (sig_s ** 0.5)) / 2)\n",
    "    r = 5\n",
    "\n",
    "    color_coeff = -0.5 / sig_c\n",
    "    color_weight = []\n",
    "    for i in range(256):\n",
    "        color_weight.append(np.exp(i**2 * color_coeff))\n",
    "    \n",
    "    space_coeff = -0.5/sig_s\n",
    "    space_weight = []\n",
    "    space_weight_row = []\n",
    "    space_weight_col = []\n",
    "    maxk = 0\n",
    "    for i in range(-r, r+1):\n",
    "        for j in range(-r, r+1):\n",
    "            d = i ** 2 + j ** 2\n",
    "            space_weight.append(np.exp(d*space_coeff))\n",
    "            space_weight_row.append(i)\n",
    "            space_weight_col.append(j)\n",
    "            maxk = maxk + 1\n",
    "\n",
    "    for row in range(height):\n",
    "        for col in range(width):\n",
    "            for c in range(3):\n",
    "                weight = 0\n",
    "                value = 0\n",
    "                for i in range(maxk):\n",
    "                    m = row + space_weight_row[i]\n",
    "                    n = col + space_weight_col[i]\n",
    "                    if m < 0 or n < 0 or m >= height or n >= width:\n",
    "                        val = 0\n",
    "                        w = 0\n",
    "                    else:\n",
    "                        val = im[m, n, c]\n",
    "                        w = space_weight[i] * color_weight[int(np.abs(val-im[row, col, c]))] \n",
    "                    value = value + val * w\n",
    "                    weight = weight + w\n",
    "\n",
    "                img_filtered[row, col, c] = value/weight\n",
    "\n",
    "    img_filtered = np.clip(img_filtered, 0, 255)\n",
    "    ### END YOUR CODE\n",
    "    return img_filtered"
   ]
  },
  {
   "cell_type": "markdown",
   "metadata": {},
   "source": [
    "2. 我们接下来用双边滤波对下面三个有噪声的图片进行降噪, 根据图像的特点（考虑颜色分布，语义内容，整体风格），选择合适的参数, 尽可能减小输出和ground truth)的L2误差(同时输出图片和误差值大小)，你的程序输入为一张图像，输出为L2误差以及降噪后的图片，将输出图片结果保存在`data/res`文件夹里(5分)\n",
    "\n",
    "<img src=\"./data/noisy/sky.png\"  style=\"height: 220px;display: inline-block;\"/>\n",
    "<img src=\"./data/noisy/noir.png\"  style=\"height: 220px;display: inline-block;\"/>\n",
    "<img src=\"./data/noisy/fairy-meadows.png\"  style=\"height: 220px;display: inline-block;\"/>\n",
    "\n",
    "<img src=\"./data/gt/sky.png\"  style=\"height: 220px;display: inline-block;\"/>\n",
    "<img src=\"./data/gt/noir.png\"  style=\"height: 220px;display: inline-block;\"/>\n",
    "<img src=\"./data/gt/fairy-meadows.png\"  style=\"height: 220px;display: inline-block;\"/>\n",
    "\n",
    "> "
   ]
  },
  {
   "cell_type": "code",
   "execution_count": null,
   "metadata": {},
   "outputs": [],
   "source": [
    "import numpy as np\n",
    "from PIL import Image\n",
    "\n",
    "img1 = np.array(Image.open('./data/noisy/sky.png'), dtype=np.float32)\n",
    "img2 = np.array(Image.open('./data/noisy/noir.png'), dtype=np.float32)\n",
    "img3 = np.array(Image.open('./data/noisy/fairy-meadows.png'), dtype=np.float32)\n",
    "\n",
    "\n",
    "### YOUR CODE HERE\n",
    "im1 = np.array(Image.open('./data/gt/sky.png'), dtype=np.float32)\n",
    "im2 = np.array(Image.open('./data/gt/noir.png'), dtype=np.float32)\n",
    "im3 = np.array(Image.open('./data/gt/fairy-meadows.png'), dtype=np.float32)\n",
    "\n",
    "def L2(y_true, y_pre):\n",
    "    return np.sum(np.square(y_true-y_pre))\n",
    "\n",
    "img_filtered1 = np.asarray(bilateral(img1, 100, 100))\n",
    "loss1 = L2(im1, img_filtered1)\n",
    "Image.fromarray(img_filtered1.astype(np.uint8)).save('./data/res/img1_filtered.png')\n",
    "\n",
    "img_filtered2 = np.asarray(bilateral(img2, 150, 200))\n",
    "loss2 = L2(im2, img_filtered2)\n",
    "Image.fromarray(img_filtered2.astype(np.uint8)).save('./data/res/img2_filtered.png')\n",
    "\n",
    "img_filtered3 = np.asarray(bilateral(img3, 200, 200))\n",
    "loss3 = L2(im3, img_filtered3)\n",
    "Image.fromarray(img_filtered3.astype(np.uint8)).save('./data/res/img3_filtered.png')\n",
    "\n",
    "\n",
    "### END YOUR CODE"
   ]
  },
  {
   "cell_type": "markdown",
   "metadata": {},
   "source": [
    "## 第三部分: 单应性 (10分) "
   ]
  },
  {
   "cell_type": "markdown",
   "metadata": {},
   "source": [
    "### 3.1 应用单应性矩阵进行图像warping (10分)"
   ]
  },
  {
   "cell_type": "markdown",
   "metadata": {},
   "source": [
    "给定如下单应性矩阵参数\n",
    "```python\n",
    "H=[[  8.34566914e-01  -3.12962592e-02  -4.53681006e+02],\n",
    "   [  1.29611862e-01   1.21225212e+00  -5.04967813e+02],\n",
    "   [ -8.20263106e-04   1.45634346e-05   1.00000000e+00]]\n",
    "```\n",
    "请补充`applyHomography()`的代码,最后**可以将如图梵高的海报warp到公交车图像的海报位置上**\n",
    "\n",
    "**要求实现最近邻插值(5分)与双线性差值(5分)**两种方式 (提示:`ndimage.map_coordinates`)\n",
    "\n",
    "<img src=\"./data/bus.jpg\"  style=\"width: 350px;display: inline-block;\"/>\n",
    "<img src=\"./data/poster.jpg\"  style=\"width: 200px;display: inline-block;\"/>\n",
    "<img src=\"./data/bus_warp.png\"  style=\"width: 350px;display: inline-block;\"/>"
   ]
  },
  {
   "cell_type": "code",
   "execution_count": null,
   "metadata": {},
   "outputs": [],
   "source": [
    "#homography matrix\n",
    "H = np.array([[  8.34566914e-01 , -3.12962592e-02 , -4.53681006e+02],\n",
    "   [  1.29611862e-01   ,1.21225212 , -5.04967813e+02],\n",
    "   [ -8.20263106e-04  , 1.45634346e-05  , 1.]])\n",
    "\n",
    "def applyHomography(H,im1,im2,option):\n",
    "    #option = \"nearest\" or \"bilinear\"\n",
    "    #warp image 2 to image 1\n",
    "    im = im1 \n",
    "    ### YOUR CODE HERE\n",
    "    height1, width1, _= im1.shape\n",
    "    height2, width2, _= im2.shape\n",
    "    if option == \"nearest\":\n",
    "        for y in range(0, height1):\n",
    "            for x in range(0, width1):        \n",
    "                p = np.array([x,y,1.]).reshape(-1,1)        \n",
    "                p2 = H.dot(p)\n",
    "\n",
    "                tmpx = p2[0] / p2[2]\n",
    "                tmpy = p2[1] / p2[2]\n",
    "\n",
    "                tmpx_min = int(np.floor(tmpx))\n",
    "                tmpx_max = int(np.ceil(tmpx))\n",
    "                tmpy_min = int(np.floor(tmpy))\n",
    "                tmpy_max = int(np.ceil(tmpy))\n",
    "\n",
    "                p2x = int(np.round(tmpx))\n",
    "                p2y = int(np.round(tmpy))\n",
    "\n",
    "                if tmpx_min >= 0 and tmpy_min >= 0 and tmpx_max < width2 and tmpy_max < height2:\n",
    "                    im[y, x] = im2[p2y, p2x]\n",
    "\n",
    "    elif option == \"bilinear\":\n",
    "        for y in range(0, height1):\n",
    "            for x in range(0, width1):        \n",
    "                p = np.array([x,y,1.]).reshape(-1,1)        \n",
    "                p2 = H.dot(p)\n",
    "\n",
    "                tmpx = p2[0] / p2[2]\n",
    "                tmpy = p2[1] / p2[2]\n",
    "\n",
    "                tmpx_min = int(np.floor(tmpx))\n",
    "                tmpx_max = int(np.ceil(tmpx))\n",
    "                tmpy_min = int(np.floor(tmpy))\n",
    "                tmpy_max = int(np.ceil(tmpy))\n",
    "\n",
    "                if tmpx_min >= 0 and tmpy_min >= 0 and tmpx_max < width2 and tmpy_max < height2:\n",
    "\n",
    "                    s = tmpx - tmpx_min\n",
    "                    t = tmpy - tmpy_min\n",
    "\n",
    "                    c1 = (1-s) * im2[tmpy_min, tmpx_min] + s * im2[tmpy_min, tmpx_max]\n",
    "                    c2 = (1-s) * im2[tmpy_max, tmpx_min] + s * im2[tmpy_max, tmpx_max]\n",
    "                    c = (1-t) * c1 + t * c2\n",
    "\n",
    "                    im[y,x] = c\n",
    "\n",
    "    ### END YOUR CODE\n",
    "    return im\n",
    "\n",
    "img2=(io.imread(\"./data/poster.jpg\"))\n",
    "img1=(io.imread(\"./data/bus.jpg\"))\n",
    "show_images([applyHomography(H,img1,img2,\"nearest\"),applyHomography(H,img1,img2,\"bilinear\")])"
   ]
  },
  {
   "cell_type": "code",
   "execution_count": null,
   "metadata": {},
   "outputs": [],
   "source": []
  }
 ],
 "metadata": {
  "kernelspec": {
   "display_name": "Python 3",
   "language": "python",
   "name": "python3"
  },
  "language_info": {
   "codemirror_mode": {
    "name": "ipython",
    "version": 3
   },
   "file_extension": ".py",
   "mimetype": "text/x-python",
   "name": "python",
   "nbconvert_exporter": "python",
   "pygments_lexer": "ipython3",
   "version": "3.8.0"
  },
  "toc-autonumbering": false,
  "toc-showmarkdowntxt": false,
  "toc-showtags": false
 },
 "nbformat": 4,
 "nbformat_minor": 2
}
